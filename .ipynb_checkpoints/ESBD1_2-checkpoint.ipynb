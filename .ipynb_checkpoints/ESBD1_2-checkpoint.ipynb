{
 "cells": [
  {
   "cell_type": "markdown",
   "id": "cc17e0e9",
   "metadata": {},
   "source": [
    "## 0.0 Importações"
   ]
  },
  {
   "cell_type": "code",
   "execution_count": null,
   "id": "e0d28449",
   "metadata": {},
   "outputs": [],
   "source": [
    "import time\n",
    "import random\n",
    "import networkx as nx"
   ]
  },
  {
   "cell_type": "markdown",
   "id": "ed649934",
   "metadata": {},
   "source": [
    "## 1.0. Para 5 arestas por vértice"
   ]
  },
  {
   "cell_type": "code",
   "execution_count": null,
   "id": "f3229d10",
   "metadata": {},
   "outputs": [],
   "source": [
    "def busca_grau_separacao(G, u, v):\n",
    "    try:\n",
    "        return nx.shortest_path_length(G, u, v)\n",
    "    except nx.NetworkXNoPath:\n",
    "        return None\n",
    "\n",
    "def teste_grau_separacao(num_vertices, num_arestas):\n",
    "    media_grau_separacao = 0\n",
    "    num_testes = 100\n",
    "\n",
    "    for i in range(num_testes):\n",
    "        G = nx.gnm_random_graph(num_vertices, num_arestas)\n",
    "\n",
    "        u = random.randint(0, num_vertices-1)\n",
    "        v = random.randint(0, num_vertices-1)\n",
    "\n",
    "        while u == v:\n",
    "            v = random.randint(0, num_vertices-1)\n",
    "\n",
    "        grau_separacao = busca_grau_separacao(G, u, v)\n",
    "\n",
    "        if grau_separacao is not None:\n",
    "            media_grau_separacao += grau_separacao\n",
    "\n",
    "    media_grau_separacao /= num_testes\n",
    "    return media_grau_separacao\n",
    "\n",
    "# tabela com os valores de vértices e arestas\n",
    "valores = [\n",
    "    (100, 500), \n",
    "    (1000, 5000), \n",
    "    (10000, 50000), \n",
    "    (100000, 500000)\n",
    "    ]\n",
    "\n",
    "# testa para cada valor da tabela e preenche a tabela com os resultados\n",
    "tabela = []\n",
    "\n",
    "for num_vertices, num_arestas in valores:\n",
    "    media_grau_separacao = teste_grau_separacao(num_vertices, num_arestas)\n",
    "    tabela.append((num_vertices, num_arestas, media_grau_separacao))\n",
    "\n",
    "# imprime a tabela com os resultados\n",
    "print(\"Vértices | Total de Arestas | Grau de separação médio\")\n",
    "for num_vertices, num_arestas, media_grau_separacao in tabela:\n",
    "    print(f\"{num_vertices:^8} | {num_arestas:^19} | {media_grau_separacao:^24.2f}\")"
   ]
  },
  {
   "cell_type": "markdown",
   "id": "0c91bbfd",
   "metadata": {},
   "source": [
    "## 2.0. Para raiz(n)"
   ]
  },
  {
   "cell_type": "code",
   "execution_count": null,
   "id": "36120200",
   "metadata": {},
   "outputs": [],
   "source": [
    "def busca_grau_separacao(G, u, v):\n",
    "    try:\n",
    "        return nx.shortest_path_length(G, u, v)\n",
    "    except nx.NetworkXNoPath:\n",
    "        return None\n",
    "\n",
    "def teste_grau_separacao(num_vertices, num_arestas):\n",
    "    media_grau_separacao = 0\n",
    "    num_testes = 100\n",
    "\n",
    "    for i in range(num_testes):\n",
    "        G = nx.gnm_random_graph(num_vertices, num_arestas)\n",
    "\n",
    "        u = random.randint(0, num_vertices-1)\n",
    "        v = random.randint(0, num_vertices-1)\n",
    "\n",
    "        while u == v:\n",
    "            v = random.randint(0, num_vertices-1)\n",
    "\n",
    "        grau_separacao = busca_grau_separacao(G, u, v)\n",
    "\n",
    "        if grau_separacao is not None:\n",
    "            media_grau_separacao += grau_separacao\n",
    "\n",
    "    media_grau_separacao /= num_testes\n",
    "    return media_grau_separacao\n",
    "\n",
    "# tabela com os valores de vértices e arestas\n",
    "valores = [\n",
    "    (100, 1000), \n",
    "    (1000, 31623), \n",
    "    (10000, 1000000), \n",
    "    (100000, 31622777)\n",
    "    ]\n",
    "\n",
    "# testa para cada valor da tabela e preenche a tabela com os resultados\n",
    "tabela = []\n",
    "\n",
    "for num_vertices, num_arestas in valores:\n",
    "    media_grau_separacao = teste_grau_separacao(num_vertices, num_arestas)\n",
    "    tabela.append((num_vertices, num_arestas, media_grau_separacao))\n",
    "\n",
    "# imprime a tabela com os resultados\n",
    "print(\"Vértices | Total de Arestas | Grau de separação médio\")\n",
    "for num_vertices, num_arestas, media_grau_separacao in tabela:\n",
    "    print(f\"{num_vertices:^8} | {num_arestas:^19} | {media_grau_separacao:^24.2f}\")"
   ]
  },
  {
   "cell_type": "markdown",
   "id": "431cdab7",
   "metadata": {},
   "source": [
    "## 3.0. Para n/5"
   ]
  },
  {
   "cell_type": "code",
   "execution_count": null,
   "id": "8bfa74a7",
   "metadata": {},
   "outputs": [],
   "source": []
  }
 ],
 "metadata": {
  "kernelspec": {
   "display_name": "Python 3 (ipykernel)",
   "language": "python",
   "name": "python3"
  },
  "language_info": {
   "codemirror_mode": {
    "name": "ipython",
    "version": 3
   },
   "file_extension": ".py",
   "mimetype": "text/x-python",
   "name": "python",
   "nbconvert_exporter": "python",
   "pygments_lexer": "ipython3",
   "version": "3.9.12"
  }
 },
 "nbformat": 4,
 "nbformat_minor": 5
}
