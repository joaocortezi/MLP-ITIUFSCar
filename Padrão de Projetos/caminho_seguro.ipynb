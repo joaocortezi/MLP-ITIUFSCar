{
 "cells": [
  {
   "cell_type": "markdown",
   "id": "936cd46e",
   "metadata": {},
   "source": [
    "# Suponha um sistema de geração de rotas seguras. \n",
    "# O App deve gerar uma rota que se classifca em \"altamente segurta\", \"segura\"e \"aceitavel\". \n",
    "# Como a rota deve/pode ser alterada à medida que o pedestre caminha, o sistema deve ser capaz de trocar o nível de segurana da rota em tempo de execução. \n",
    "# Assim, ora a rota se caracteriza como :\"altamente segura\", ora como \"segura\" e ora como \"aceitável\". "
   ]
  },
  {
   "cell_type": "markdown",
   "id": "488b17a7",
   "metadata": {},
   "source": [
    "# 0.0. IMPORTS"
   ]
  },
  {
   "cell_type": "code",
   "execution_count": 1,
   "id": "03289a9d",
   "metadata": {},
   "outputs": [],
   "source": [
    "import random"
   ]
  },
  {
   "cell_type": "markdown",
   "id": "3e07f636",
   "metadata": {},
   "source": [
    "# 0.1. HELPER FUNCTIONS"
   ]
  },
  {
   "cell_type": "code",
   "execution_count": 2,
   "id": "bb0c63fa",
   "metadata": {},
   "outputs": [],
   "source": [
    "class SafetyLevel:\n",
    "    def __init__(self, name, value):\n",
    "        self.name = name\n",
    "        self.value = value\n",
    "        \n",
    "class SafetyLevelFactory:\n",
    "    @staticmethod\n",
    "    def create_acceptable_level():\n",
    "        return SafetyLevel(\"caminho aceitável\", 1)\n",
    "    \n",
    "    @staticmethod\n",
    "    def create_safe_level():\n",
    "        return SafetyLevel(\"caminho seguro\", 2)\n",
    "    \n",
    "    @staticmethod\n",
    "    def create_highly_safe_level():\n",
    "        return SafetyLevel(\"caminho altamente seguro\", 3)\n",
    "    \n",
    "\n",
    "class Point:\n",
    "    def __init__(self, latitude, longitude):\n",
    "        self.latitude = latitude\n",
    "        self.longitude = longitude\n",
    "        self.safety_levels = []\n",
    "\n",
    "    def add_safety_level(self, safety_level):\n",
    "        self.safety_levels.append(safety_level)\n",
    "\n",
    "class Route:\n",
    "    def __init__(self):\n",
    "        self.points = []\n",
    "        self.safety_level = None\n",
    "        \n",
    "    def add_point(self, point):\n",
    "        self.points.append(point)\n",
    "        \n",
    "    def update_safety_level(self):\n",
    "        safety_levels = [point.safety_levels[-1] for point in self.points if point.safety_levels]\n",
    "        if safety_levels:\n",
    "            max_safety_level = max(safety_levels, key=lambda level: level.value)\n",
    "            self.safety_level = max_safety_level.name"
   ]
  },
  {
   "cell_type": "markdown",
   "id": "492e8aad",
   "metadata": {},
   "source": [
    "# 1.0. TESTING THE CODE"
   ]
  },
  {
   "cell_type": "markdown",
   "id": "6f9f8ede",
   "metadata": {},
   "source": [
    "## 1.1. Input Values"
   ]
  },
  {
   "cell_type": "code",
   "execution_count": 3,
   "id": "5b95828d",
   "metadata": {},
   "outputs": [
    {
     "name": "stdout",
     "output_type": "stream",
     "text": [
      "Informe a latitude do ponto 1: -90\n",
      "Informe a longitude do ponto 1: 90\n",
      "Informe a latitude do ponto 2: -20.91\n",
      "Informe a longitude do ponto 2: -100.89\n",
      "Informe a latitude do ponto 3: -42.23\n",
      "Informe a longitude do ponto 3: -43.19\n",
      "altamente seguro\n"
     ]
    }
   ],
   "source": [
    "# Pedindo ao usuário para informar os valores de latitude e longitude\n",
    "lat1 = float(input(\"Informe a latitude do ponto 1: \"))\n",
    "lon1 = float(input(\"Informe a longitude do ponto 1: \"))\n",
    "\n",
    "lat2 = float(input(\"Informe a latitude do ponto 2: \"))\n",
    "lon2 = float(input(\"Informe a longitude do ponto 2: \"))\n",
    "\n",
    "lat3 = float(input(\"Informe a latitude do ponto 3: \"))\n",
    "lon3 = float(input(\"Informe a longitude do ponto 3: \"))\n",
    "\n",
    "# Criando os pontos com os valores informados\n",
    "point1 = Point(lat1, lon1)\n",
    "point1.add_safety_level(SafetyLevelFactory.create_highly_safe_level())\n",
    "\n",
    "point2 = Point(lat2, lon2)\n",
    "point2.add_safety_level(SafetyLevelFactory.create_safe_level())\n",
    "\n",
    "point3 = Point(lat3, lon3)\n",
    "point3.add_safety_level(SafetyLevelFactory.create_acceptable_level())\n",
    "\n",
    "# Criando a rota e adicionando os pontos\n",
    "route = Route()\n",
    "route.add_point(point1)\n",
    "route.add_point(point2)\n",
    "route.add_point(point3)\n",
    "\n",
    "# Atualizando o nível de segurança da rota\n",
    "route.update_safety_level()\n",
    "\n",
    "# Imprimindo o nível de segurança da rota\n",
    "print(route.safety_level)"
   ]
  },
  {
   "cell_type": "markdown",
   "id": "2763c936",
   "metadata": {},
   "source": [
    "## 1.2. Random Values"
   ]
  },
  {
   "cell_type": "code",
   "execution_count": 4,
   "id": "bd88103b",
   "metadata": {},
   "outputs": [
    {
     "name": "stdout",
     "output_type": "stream",
     "text": [
      "Latitude 1: 23.042193284994596 Longitude 1: 149.820370174377\n",
      "Latitude 2: -67.41195908965526 Longitude 2: -64.10494101731433\n",
      "Latitude 3: -38.04500678603591 Longitude 3: 83.30906235474532\n",
      "altamente seguro\n"
     ]
    }
   ],
   "source": [
    "# Gerando valores aleatórios de latitude e longitude\n",
    "lat1, lon1 = random.uniform(-90, 90), random.uniform(-180, 180)\n",
    "lat2, lon2 = random.uniform(-90, 90), random.uniform(-180, 180)\n",
    "lat3, lon3 = random.uniform(-90, 90), random.uniform(-180, 180)\n",
    "\n",
    "# Criando os pontos com os valores aleatórios\n",
    "point1 = Point(lat1, lon1)\n",
    "point1.add_safety_level(SafetyLevelFactory.create_highly_safe_level())\n",
    "\n",
    "point2 = Point(lat2, lon2)\n",
    "point2.add_safety_level(SafetyLevelFactory.create_safe_level())\n",
    "\n",
    "point3 = Point(lat3, lon3)\n",
    "point3.add_safety_level(SafetyLevelFactory.create_acceptable_level())\n",
    "\n",
    "# Criando a rota e adicionando os pontos\n",
    "route = Route()\n",
    "route.add_point(point1)\n",
    "route.add_point(point2)\n",
    "route.add_point(point3)\n",
    "\n",
    "# Atualizando o nível de segurança da rota\n",
    "route.update_safety_level()\n",
    "\n",
    "# Imprimindo os valores gerados aleatoriamente\n",
    "print(\"Latitude 1:\", lat1, \"Longitude 1:\", lon1)\n",
    "print(\"Latitude 2:\", lat2, \"Longitude 2:\", lon2)\n",
    "print(\"Latitude 3:\", lat3, \"Longitude 3:\", lon3)\n",
    "\n",
    "# Imprimindo o nível de segurança da rota\n",
    "print(route.safety_level)"
   ]
  }
 ],
 "metadata": {
  "kernelspec": {
   "display_name": "Python 3 (ipykernel)",
   "language": "python",
   "name": "python3"
  },
  "language_info": {
   "codemirror_mode": {
    "name": "ipython",
    "version": 3
   },
   "file_extension": ".py",
   "mimetype": "text/x-python",
   "name": "python",
   "nbconvert_exporter": "python",
   "pygments_lexer": "ipython3",
   "version": "3.9.12"
  }
 },
 "nbformat": 4,
 "nbformat_minor": 5
}
